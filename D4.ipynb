{
 "cells": [
  {
   "cell_type": "code",
   "execution_count": 11,
   "id": "7ebac31e-8233-4974-8d69-764a79b02ae4",
   "metadata": {},
   "outputs": [
    {
     "data": {
      "text/plain": [
       "{101: 4, 102: 7, 'B': 2}"
      ]
     },
     "execution_count": 11,
     "metadata": {},
     "output_type": "execute_result"
    }
   ],
   "source": [
    "d={ 101: 4,102: 7,'B':2}\n",
    "d"
   ]
  },
  {
   "cell_type": "code",
   "execution_count": 15,
   "id": "daa2efca-f5b0-41ad-8c19-26cfc48af0e0",
   "metadata": {},
   "outputs": [
    {
     "data": {
      "text/plain": [
       "2"
      ]
     },
     "execution_count": 15,
     "metadata": {},
     "output_type": "execute_result"
    }
   ],
   "source": [
    "d['B']"
   ]
  },
  {
   "cell_type": "code",
   "execution_count": 3,
   "id": "7bf6eb03-2ba0-4820-94a1-a6babe19257f",
   "metadata": {},
   "outputs": [
    {
     "data": {
      "text/plain": [
       "[5, 9, 3, 4]"
      ]
     },
     "execution_count": 3,
     "metadata": {},
     "output_type": "execute_result"
    }
   ],
   "source": [
    "l=[5,9,3,4]\n",
    "l"
   ]
  },
  {
   "cell_type": "code",
   "execution_count": 7,
   "id": "982aded6-60f3-426e-bd81-7abcf0b16cd0",
   "metadata": {},
   "outputs": [
    {
     "data": {
      "text/plain": [
       "9"
      ]
     },
     "execution_count": 7,
     "metadata": {},
     "output_type": "execute_result"
    }
   ],
   "source": [
    "l[1]"
   ]
  },
  {
   "cell_type": "code",
   "execution_count": 9,
   "id": "4488c7c1-b06e-4b55-8967-f9dfb0df9058",
   "metadata": {},
   "outputs": [
    {
     "data": {
      "text/plain": [
       "4"
      ]
     },
     "execution_count": 9,
     "metadata": {},
     "output_type": "execute_result"
    }
   ],
   "source": [
    "d[101]"
   ]
  },
  {
   "cell_type": "code",
   "execution_count": 17,
   "id": "c55ad903-ba40-406d-b826-d717a7a7b623",
   "metadata": {},
   "outputs": [
    {
     "data": {
      "text/plain": [
       "{101: 4, 102: 7, 'B': 2}"
      ]
     },
     "execution_count": 17,
     "metadata": {},
     "output_type": "execute_result"
    }
   ],
   "source": [
    "d"
   ]
  },
  {
   "cell_type": "code",
   "execution_count": 21,
   "id": "147bf84a-6ba4-4f16-ade5-9b8c9c9795bf",
   "metadata": {},
   "outputs": [],
   "source": [
    "d.update({'Id':454})"
   ]
  },
  {
   "cell_type": "code",
   "execution_count": 23,
   "id": "d0ec39df-0f10-455c-9e81-0919bf88d5ba",
   "metadata": {},
   "outputs": [
    {
     "data": {
      "text/plain": [
       "{101: 4, 102: 7, 'B': 2, 'Id': 454}"
      ]
     },
     "execution_count": 23,
     "metadata": {},
     "output_type": "execute_result"
    }
   ],
   "source": [
    "d"
   ]
  },
  {
   "cell_type": "code",
   "execution_count": 27,
   "id": "bec2fdd4-90e2-4b9b-b9e2-cf80dc1dd91d",
   "metadata": {},
   "outputs": [],
   "source": [
    "d[105]=5000"
   ]
  },
  {
   "cell_type": "code",
   "execution_count": 30,
   "id": "74879046-1f72-40f9-8dc9-00dcb0412ad7",
   "metadata": {},
   "outputs": [
    {
     "data": {
      "text/plain": [
       "{101: 4, 102: 7, 'B': 2, 'Id': 454, 105: 5000}"
      ]
     },
     "execution_count": 30,
     "metadata": {},
     "output_type": "execute_result"
    }
   ],
   "source": [
    "d"
   ]
  },
  {
   "cell_type": "code",
   "execution_count": 32,
   "id": "54b4239c-e147-4213-bb87-2be969ac4b48",
   "metadata": {},
   "outputs": [],
   "source": [
    "d.update({101:'India'})"
   ]
  },
  {
   "cell_type": "code",
   "execution_count": 34,
   "id": "917ad5e2-58a6-4ca4-a7c3-0eac38330493",
   "metadata": {},
   "outputs": [
    {
     "data": {
      "text/plain": [
       "{101: 'India', 102: 7, 'B': 2, 'Id': 454, 105: 5000}"
      ]
     },
     "execution_count": 34,
     "metadata": {},
     "output_type": "execute_result"
    }
   ],
   "source": [
    "d"
   ]
  },
  {
   "cell_type": "code",
   "execution_count": 46,
   "id": "1aec745a-d7bb-4d3b-8f75-c99acc9f24e9",
   "metadata": {},
   "outputs": [],
   "source": [
    "d.update({106:'India'})   #dict allows duplicate values"
   ]
  },
  {
   "cell_type": "code",
   "execution_count": 40,
   "id": "9f322a95-922d-4fee-9189-10edc7588099",
   "metadata": {},
   "outputs": [
    {
     "data": {
      "text/plain": [
       "{101: 'India', 102: 7, 'B': 2, 'Id': 454, 105: 5000, 106: 'India'}"
      ]
     },
     "execution_count": 40,
     "metadata": {},
     "output_type": "execute_result"
    }
   ],
   "source": [
    "d"
   ]
  },
  {
   "cell_type": "code",
   "execution_count": 36,
   "id": "16b7d3bc-a145-4dc0-ae57-4bc08a5f983f",
   "metadata": {},
   "outputs": [
    {
     "data": {
      "text/plain": [
       "7"
      ]
     },
     "execution_count": 36,
     "metadata": {},
     "output_type": "execute_result"
    }
   ],
   "source": [
    "d.get(102)"
   ]
  },
  {
   "cell_type": "code",
   "execution_count": 42,
   "id": "fe2e4939-0739-41c3-9c83-70d4e34b754b",
   "metadata": {},
   "outputs": [],
   "source": [
    "del d[102]"
   ]
  },
  {
   "cell_type": "code",
   "execution_count": 44,
   "id": "32a704dd-a30c-40b6-b016-e14f5741b1b7",
   "metadata": {},
   "outputs": [
    {
     "data": {
      "text/plain": [
       "{101: 'India', 'B': 2, 'Id': 454, 105: 5000, 106: 'India'}"
      ]
     },
     "execution_count": 44,
     "metadata": {},
     "output_type": "execute_result"
    }
   ],
   "source": [
    "d"
   ]
  },
  {
   "cell_type": "code",
   "execution_count": 48,
   "id": "40b28642-5639-4398-81cc-25e71b09b8de",
   "metadata": {},
   "outputs": [],
   "source": [
    "d[104]= [1000,5000,6000,7000]"
   ]
  },
  {
   "cell_type": "code",
   "execution_count": 50,
   "id": "ea1de63a-b432-4671-ab43-95deb2942e18",
   "metadata": {},
   "outputs": [
    {
     "data": {
      "text/plain": [
       "{101: 'India',\n",
       " 'B': 2,\n",
       " 'Id': 454,\n",
       " 105: 5000,\n",
       " 106: 'India',\n",
       " 104: [1000, 5000, 6000, 7000]}"
      ]
     },
     "execution_count": 50,
     "metadata": {},
     "output_type": "execute_result"
    }
   ],
   "source": [
    "d"
   ]
  },
  {
   "cell_type": "code",
   "execution_count": 62,
   "id": "89459431-c47e-4c75-91b0-bcd7671e61ca",
   "metadata": {},
   "outputs": [
    {
     "data": {
      "text/plain": [
       "dict"
      ]
     },
     "execution_count": 62,
     "metadata": {},
     "output_type": "execute_result"
    }
   ],
   "source": [
    "type(d)"
   ]
  },
  {
   "cell_type": "code",
   "execution_count": 64,
   "id": "72d62330-99ab-4c20-81dc-30ec21c6b1a5",
   "metadata": {},
   "outputs": [
    {
     "data": {
      "text/plain": [
       "list"
      ]
     },
     "execution_count": 64,
     "metadata": {},
     "output_type": "execute_result"
    }
   ],
   "source": [
    "type(d[104])"
   ]
  },
  {
   "cell_type": "code",
   "execution_count": 68,
   "id": "c0a0ebbb-5789-42ba-bd75-548a1a5d7cb9",
   "metadata": {},
   "outputs": [
    {
     "data": {
      "text/plain": [
       "str"
      ]
     },
     "execution_count": 68,
     "metadata": {},
     "output_type": "execute_result"
    }
   ],
   "source": [
    "type(d[101])"
   ]
  },
  {
   "cell_type": "code",
   "execution_count": 58,
   "id": "27a49f5a-8b87-42a2-8393-b31e3f3e2cb9",
   "metadata": {},
   "outputs": [
    {
     "data": {
      "text/plain": [
       "[1000, 5000, 6000, 7000]"
      ]
     },
     "execution_count": 58,
     "metadata": {},
     "output_type": "execute_result"
    }
   ],
   "source": [
    "d[104]"
   ]
  },
  {
   "cell_type": "code",
   "execution_count": 60,
   "id": "69395953-7262-4e79-848b-c94a398ba6b8",
   "metadata": {},
   "outputs": [
    {
     "data": {
      "text/plain": [
       "[1000, 5000, 6000]"
      ]
     },
     "execution_count": 60,
     "metadata": {},
     "output_type": "execute_result"
    }
   ],
   "source": [
    "d[104][0:3]"
   ]
  },
  {
   "cell_type": "code",
   "execution_count": 70,
   "id": "d45cf866-631c-4aaf-aa10-18d0a4d1e63d",
   "metadata": {},
   "outputs": [],
   "source": [
    "d.update({103:(30,40,50,60,70)})"
   ]
  },
  {
   "cell_type": "code",
   "execution_count": 72,
   "id": "12e89df8-e7f2-4973-9579-9b8ac7297fde",
   "metadata": {},
   "outputs": [
    {
     "data": {
      "text/plain": [
       "{101: 'India',\n",
       " 'B': 2,\n",
       " 'Id': 454,\n",
       " 105: 5000,\n",
       " 106: 'India',\n",
       " 104: [1000, 5000, 6000, 7000],\n",
       " 103: (30, 40, 50, 60, 70)}"
      ]
     },
     "execution_count": 72,
     "metadata": {},
     "output_type": "execute_result"
    }
   ],
   "source": [
    "d"
   ]
  },
  {
   "cell_type": "code",
   "execution_count": 78,
   "id": "a2a9fed1-4cdf-48c3-9470-a82c4ff67343",
   "metadata": {},
   "outputs": [],
   "source": [
    "d[104].append(56)"
   ]
  },
  {
   "cell_type": "code",
   "execution_count": 80,
   "id": "9c1a08d6-c3de-452d-a91c-8dcee2788224",
   "metadata": {},
   "outputs": [
    {
     "data": {
      "text/plain": [
       "{101: 'India',\n",
       " 'B': 2,\n",
       " 'Id': 454,\n",
       " 105: 5000,\n",
       " 106: 'India',\n",
       " 104: [1000, 5000, 6000, 7000, 56],\n",
       " 103: (30, 40, 50, 60, 70)}"
      ]
     },
     "execution_count": 80,
     "metadata": {},
     "output_type": "execute_result"
    }
   ],
   "source": [
    "d"
   ]
  },
  {
   "cell_type": "code",
   "execution_count": 82,
   "id": "e1d5aeba-14bb-4de2-a093-29517f562155",
   "metadata": {},
   "outputs": [
    {
     "data": {
      "text/plain": [
       "int"
      ]
     },
     "execution_count": 82,
     "metadata": {},
     "output_type": "execute_result"
    }
   ],
   "source": [
    "type(d[105])"
   ]
  },
  {
   "cell_type": "code",
   "execution_count": 92,
   "id": "64f403fc-4ae7-4b00-a8c6-5766462d2d80",
   "metadata": {},
   "outputs": [],
   "source": [
    "d[101]={'a':{30,50,70},'b':(1000,5000,7000,9000),'c':['K',{'L':[11,22],'M':(77,88)},'N']}"
   ]
  },
  {
   "cell_type": "code",
   "execution_count": 94,
   "id": "719bfb39-6403-40c4-baa8-d9cadfa77ae0",
   "metadata": {},
   "outputs": [
    {
     "data": {
      "text/plain": [
       "{101: {'a': {30, 50, 70},\n",
       "  'b': (1000, 5000, 7000, 9000),\n",
       "  'c': ['K', {'L': [11, 22], 'M': (77, 88)}, 'N']},\n",
       " 'B': 2,\n",
       " 'Id': 454,\n",
       " 105: {50: [7, 8, 9, 10], 'apple': (20, 10, 70, [90, 180, 270])},\n",
       " 106: 'India',\n",
       " 104: [1000, 5000, 6000, 7000, 56],\n",
       " 103: (30, 40, 50, 60, 70)}"
      ]
     },
     "execution_count": 94,
     "metadata": {},
     "output_type": "execute_result"
    }
   ],
   "source": [
    "d"
   ]
  },
  {
   "cell_type": "code",
   "execution_count": 88,
   "id": "da16d3f1-17c9-46ac-b4e3-5e71b65b599f",
   "metadata": {},
   "outputs": [],
   "source": [
    "d[105]={50:[7,8,9,10],'apple':(20,10,70,[90,180,270])}"
   ]
  },
  {
   "cell_type": "code",
   "execution_count": 96,
   "id": "5549a155-2f33-48e9-9209-b3fa2336c40d",
   "metadata": {},
   "outputs": [
    {
     "data": {
      "text/plain": [
       "{101: {'a': {30, 50, 70},\n",
       "  'b': (1000, 5000, 7000, 9000),\n",
       "  'c': ['K', {'L': [11, 22], 'M': (77, 88)}, 'N']},\n",
       " 'B': 2,\n",
       " 'Id': 454,\n",
       " 105: {50: [7, 8, 9, 10], 'apple': (20, 10, 70, [90, 180, 270])},\n",
       " 106: 'India',\n",
       " 104: [1000, 5000, 6000, 7000, 56],\n",
       " 103: (30, 40, 50, 60, 70)}"
      ]
     },
     "execution_count": 96,
     "metadata": {},
     "output_type": "execute_result"
    }
   ],
   "source": [
    "d"
   ]
  },
  {
   "cell_type": "code",
   "execution_count": 118,
   "id": "702195b9-1323-4d24-9a11-f406c4697583",
   "metadata": {},
   "outputs": [],
   "source": [
    "d[105]='180'"
   ]
  },
  {
   "cell_type": "code",
   "execution_count": 120,
   "id": "55bbbdd5-6680-4848-8a83-4e88595df2e5",
   "metadata": {},
   "outputs": [
    {
     "data": {
      "text/plain": [
       "{101: {'a': {30, 50, 70},\n",
       "  'b': (1000, 5000, 7000, 9000),\n",
       "  'c': ['K', {'L': [11, 22], 'M': (77, 88)}, 'N']},\n",
       " 'B': 2,\n",
       " 'Id': 454,\n",
       " 105: '180',\n",
       " 106: 'India',\n",
       " 104: [1000, 5000, 6000, 7000, 56],\n",
       " 103: (30, 40, 50, 60, 70)}"
      ]
     },
     "execution_count": 120,
     "metadata": {},
     "output_type": "execute_result"
    }
   ],
   "source": [
    "d"
   ]
  }
 ],
 "metadata": {
  "kernelspec": {
   "display_name": "Python [conda env:base] *",
   "language": "python",
   "name": "conda-base-py"
  },
  "language_info": {
   "codemirror_mode": {
    "name": "ipython",
    "version": 3
   },
   "file_extension": ".py",
   "mimetype": "text/x-python",
   "name": "python",
   "nbconvert_exporter": "python",
   "pygments_lexer": "ipython3",
   "version": "3.12.7"
  }
 },
 "nbformat": 4,
 "nbformat_minor": 5
}
