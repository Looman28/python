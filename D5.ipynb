{
 "cells": [
  {
   "cell_type": "code",
   "execution_count": null,
   "id": "69568c68-5829-4360-979a-80f22eaebecb",
   "metadata": {},
   "outputs": [],
   "source": [
    "WAP to know number is positive negative or zero"
   ]
  },
  {
   "cell_type": "code",
   "execution_count": 1,
   "id": "dcf458ac-7448-4898-a6c7-41e58e4f7336",
   "metadata": {},
   "outputs": [
    {
     "name": "stdout",
     "output_type": "stream",
     "text": [
      "pos\n"
     ]
    }
   ],
   "source": [
    "x=6\n",
    "if x>0:\n",
    "    print('pos')\n",
    "elif x<0:\n",
    "    print('neg')\n",
    "else:\n",
    "    print('zero')"
   ]
  },
  {
   "cell_type": "code",
   "execution_count": 9,
   "id": "b00a3d1d-6919-48d3-a5f1-909ea953df70",
   "metadata": {},
   "outputs": [
    {
     "name": "stdout",
     "output_type": "stream",
     "text": [
      "O\n"
     ]
    }
   ],
   "source": [
    "y=3\n",
    "if y>5:\n",
    "    print('M')\n",
    "elif y>4:\n",
    "    print('k')\n",
    "elif y>7:\n",
    "    print('H')\n",
    "else:\n",
    "    print('O')"
   ]
  },
  {
   "cell_type": "code",
   "execution_count": 11,
   "id": "3f59a32d-311d-47b6-b142-a4aa8890d488",
   "metadata": {},
   "outputs": [
    {
     "name": "stdout",
     "output_type": "stream",
     "text": [
      "M\n"
     ]
    }
   ],
   "source": [
    "y=10\n",
    "if y>5:\n",
    "    print('M')\n",
    "elif y>4:\n",
    "    print('k')\n",
    "elif y>7:\n",
    "    print('H')\n",
    "else:\n",
    "    print('O')"
   ]
  },
  {
   "cell_type": "code",
   "execution_count": 63,
   "id": "6c5df9b3-5b2c-4c38-8a43-04ae87db7d3f",
   "metadata": {},
   "outputs": [],
   "source": [
    "x='telangana'\n",
    "x='Tiger'\n",
    "x='Tan'"
   ]
  },
  {
   "cell_type": "code",
   "execution_count": 67,
   "id": "fdcae533-8e02-4957-9d67-2500a4d3744a",
   "metadata": {},
   "outputs": [
    {
     "data": {
      "text/plain": [
       "'Tan'"
      ]
     },
     "execution_count": 67,
     "metadata": {},
     "output_type": "execute_result"
    }
   ],
   "source": [
    "x"
   ]
  },
  {
   "cell_type": "code",
   "execution_count": 71,
   "id": "79cc7e71-f900-4c12-bdf6-932484633458",
   "metadata": {},
   "outputs": [],
   "source": [
    "x='Lion'\n",
    "x='Mumbai'"
   ]
  },
  {
   "cell_type": "code",
   "execution_count": 73,
   "id": "794279ce-8a99-4e20-ab6f-dfd37940186c",
   "metadata": {},
   "outputs": [
    {
     "data": {
      "text/plain": [
       "'Mumbai'"
      ]
     },
     "execution_count": 73,
     "metadata": {},
     "output_type": "execute_result"
    }
   ],
   "source": [
    "x"
   ]
  },
  {
   "cell_type": "code",
   "execution_count": 79,
   "id": "d64b13aa-ab58-4b86-b8e7-df8639ff2359",
   "metadata": {},
   "outputs": [
    {
     "name": "stdout",
     "output_type": "stream",
     "text": [
      "Yes\n"
     ]
    }
   ],
   "source": [
    "x='telangana'\n",
    "if x[0]=='t' or x[0]=='T' :\n",
    "    print('Yes')\n",
    "else:\n",
    "    print('No')"
   ]
  },
  {
   "cell_type": "code",
   "execution_count": 83,
   "id": "7c7a2431-fe80-4992-892b-9439fb8dbe79",
   "metadata": {},
   "outputs": [
    {
     "name": "stdout",
     "output_type": "stream",
     "text": [
      "No\n"
     ]
    }
   ],
   "source": [
    "x='Tiger'\n",
    "if x[0].lower()=='T' :\n",
    "    print('Yes')\n",
    "else:\n",
    "    print('No')"
   ]
  },
  {
   "cell_type": "code",
   "execution_count": 91,
   "id": "f05f1193-5635-42e0-9ddd-b654c0c7dd2a",
   "metadata": {},
   "outputs": [],
   "source": [
    "x[0].lower()=='t';"
   ]
  },
  {
   "cell_type": "code",
   "execution_count": 97,
   "id": "2857846a-fe85-47fa-a91d-24297096bb38",
   "metadata": {},
   "outputs": [
    {
     "name": "stdout",
     "output_type": "stream",
     "text": [
      "No\n"
     ]
    }
   ],
   "source": [
    "if x[0]=='s' or  x[0]=='S' or  x[0]=='m' or  x[0]=='M' or  x[0]=='h' or  x[0]=='H' :\n",
    "    print('Yes')\n",
    "else:\n",
    "    print('No')"
   ]
  },
  {
   "cell_type": "code",
   "execution_count": 99,
   "id": "b38bde78-40d6-41de-864b-b33356c930ba",
   "metadata": {},
   "outputs": [
    {
     "name": "stdout",
     "output_type": "stream",
     "text": [
      "No\n"
     ]
    }
   ],
   "source": [
    "if x[0].lower() in ('s','m','h'):\n",
    "    print('Yes')\n",
    "else:\n",
    "    print('No')"
   ]
  }
 ],
 "metadata": {
  "kernelspec": {
   "display_name": "Python [conda env:base] *",
   "language": "python",
   "name": "conda-base-py"
  },
  "language_info": {
   "codemirror_mode": {
    "name": "ipython",
    "version": 3
   },
   "file_extension": ".py",
   "mimetype": "text/x-python",
   "name": "python",
   "nbconvert_exporter": "python",
   "pygments_lexer": "ipython3",
   "version": "3.12.7"
  }
 },
 "nbformat": 4,
 "nbformat_minor": 5
}
