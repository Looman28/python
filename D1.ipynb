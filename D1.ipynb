{
 "cells": [
  {
   "cell_type": "code",
   "execution_count": null,
   "id": "c21224f0-8306-4aaa-be30-1efc820b8819",
   "metadata": {},
   "outputs": [],
   "source": [
    "#addition  +\n",
    "#substraction  -\n",
    "#multiplition  *\n",
    "#division  /\n",
    "#modulus  %\n",
    "#power  **"
   ]
  },
  {
   "cell_type": "code",
   "execution_count": 1,
   "id": "4f2862a8-cec1-4c0f-8f17-174ef5ad3b68",
   "metadata": {},
   "outputs": [],
   "source": [
    "a=8\n",
    "b=4"
   ]
  },
  {
   "cell_type": "code",
   "execution_count": 3,
   "id": "b035efbe-78eb-495c-8b1f-c9cc6ca541fb",
   "metadata": {},
   "outputs": [
    {
     "data": {
      "text/plain": [
       "4096"
      ]
     },
     "execution_count": 3,
     "metadata": {},
     "output_type": "execute_result"
    }
   ],
   "source": [
    "a ** b"
   ]
  },
  {
   "cell_type": "code",
   "execution_count": 5,
   "id": "14670dbd-d7ae-412c-8be5-2e1e558bb222",
   "metadata": {},
   "outputs": [],
   "source": [
    "a=78\n",
    "b=16"
   ]
  },
  {
   "cell_type": "code",
   "execution_count": 7,
   "id": "619cb58e-a50f-47a0-acea-5e58bb397f8a",
   "metadata": {},
   "outputs": [
    {
     "data": {
      "text/plain": [
       "1877213388752445800995314794496"
      ]
     },
     "execution_count": 7,
     "metadata": {},
     "output_type": "execute_result"
    }
   ],
   "source": [
    "a ** b"
   ]
  },
  {
   "cell_type": "code",
   "execution_count": 9,
   "id": "41967bac-9712-4acf-922e-10946a3b9fff",
   "metadata": {},
   "outputs": [
    {
     "data": {
      "text/plain": [
       "1248"
      ]
     },
     "execution_count": 9,
     "metadata": {},
     "output_type": "execute_result"
    }
   ],
   "source": [
    "a * b"
   ]
  },
  {
   "cell_type": "code",
   "execution_count": 11,
   "id": "a5b2a084-41af-464f-830e-48e048fbf140",
   "metadata": {},
   "outputs": [
    {
     "data": {
      "text/plain": [
       "4.875"
      ]
     },
     "execution_count": 11,
     "metadata": {},
     "output_type": "execute_result"
    }
   ],
   "source": [
    "a / b"
   ]
  },
  {
   "cell_type": "code",
   "execution_count": 13,
   "id": "472b0516-41c2-4e5d-8532-16eaa4ef6d80",
   "metadata": {},
   "outputs": [
    {
     "data": {
      "text/plain": [
       "14"
      ]
     },
     "execution_count": 13,
     "metadata": {},
     "output_type": "execute_result"
    }
   ],
   "source": [
    "a % b"
   ]
  },
  {
   "cell_type": "code",
   "execution_count": 15,
   "id": "a08570e5-5977-41e6-94d6-32b22a46dbe6",
   "metadata": {},
   "outputs": [
    {
     "data": {
      "text/plain": [
       "62"
      ]
     },
     "execution_count": 15,
     "metadata": {},
     "output_type": "execute_result"
    }
   ],
   "source": [
    "a - b"
   ]
  },
  {
   "cell_type": "code",
   "execution_count": 17,
   "id": "17bea8cd-bd56-440b-84ff-66c3a87c1adc",
   "metadata": {},
   "outputs": [
    {
     "data": {
      "text/plain": [
       "94"
      ]
     },
     "execution_count": 17,
     "metadata": {},
     "output_type": "execute_result"
    }
   ],
   "source": [
    "a + b"
   ]
  },
  {
   "cell_type": "code",
   "execution_count": 19,
   "id": "d9df7d32-f50f-42ef-8109-47065614c1f1",
   "metadata": {},
   "outputs": [
    {
     "data": {
      "text/plain": [
       "78"
      ]
     },
     "execution_count": 19,
     "metadata": {},
     "output_type": "execute_result"
    }
   ],
   "source": [
    "a"
   ]
  },
  {
   "cell_type": "code",
   "execution_count": 21,
   "id": "c9152495-d36d-487b-8ce0-77abb7d2973a",
   "metadata": {},
   "outputs": [
    {
     "data": {
      "text/plain": [
       "16"
      ]
     },
     "execution_count": 21,
     "metadata": {},
     "output_type": "execute_result"
    }
   ],
   "source": [
    "b"
   ]
  },
  {
   "cell_type": "code",
   "execution_count": null,
   "id": "8488336c-5aca-4cae-bba5-b759d6be4cd2",
   "metadata": {},
   "outputs": [],
   "source": [
    "> < >= <= == !="
   ]
  },
  {
   "cell_type": "code",
   "execution_count": 23,
   "id": "ef463a0c-b3be-4317-8d24-33edf58f0e4c",
   "metadata": {},
   "outputs": [
    {
     "data": {
      "text/plain": [
       "False"
      ]
     },
     "execution_count": 23,
     "metadata": {},
     "output_type": "execute_result"
    }
   ],
   "source": [
    "a<b"
   ]
  },
  {
   "cell_type": "code",
   "execution_count": 25,
   "id": "7d2bbf05-70b9-4fa1-b18b-3ab4606598ea",
   "metadata": {},
   "outputs": [
    {
     "data": {
      "text/plain": [
       "True"
      ]
     },
     "execution_count": 25,
     "metadata": {},
     "output_type": "execute_result"
    }
   ],
   "source": [
    "a>b"
   ]
  },
  {
   "cell_type": "code",
   "execution_count": 43,
   "id": "370a8f25-66fd-4881-90c5-07588cb56517",
   "metadata": {},
   "outputs": [
    {
     "data": {
      "text/plain": [
       "False"
      ]
     },
     "execution_count": 43,
     "metadata": {},
     "output_type": "execute_result"
    }
   ],
   "source": [
    "a == b"
   ]
  },
  {
   "cell_type": "code",
   "execution_count": 35,
   "id": "f6964125-8e91-4d3f-bdbc-1891ac775fa3",
   "metadata": {},
   "outputs": [
    {
     "data": {
      "text/plain": [
       "10"
      ]
     },
     "execution_count": 35,
     "metadata": {},
     "output_type": "execute_result"
    }
   ],
   "source": [
    "a"
   ]
  },
  {
   "cell_type": "code",
   "execution_count": 45,
   "id": "fa0610e7-e43d-414d-aa79-4c1bbc4b93b8",
   "metadata": {},
   "outputs": [
    {
     "data": {
      "text/plain": [
       "True"
      ]
     },
     "execution_count": 45,
     "metadata": {},
     "output_type": "execute_result"
    }
   ],
   "source": [
    "a != b"
   ]
  },
  {
   "cell_type": "code",
   "execution_count": 39,
   "id": "15480725-15e2-4048-9b0f-64cc15094bf0",
   "metadata": {},
   "outputs": [
    {
     "data": {
      "text/plain": [
       "True"
      ]
     },
     "execution_count": 39,
     "metadata": {},
     "output_type": "execute_result"
    }
   ],
   "source": [
    "a <= b"
   ]
  },
  {
   "cell_type": "code",
   "execution_count": 41,
   "id": "d707616e-d7de-47b9-8eea-6c3c64b9b137",
   "metadata": {},
   "outputs": [
    {
     "data": {
      "text/plain": [
       "False"
      ]
     },
     "execution_count": 41,
     "metadata": {},
     "output_type": "execute_result"
    }
   ],
   "source": [
    "a >= b"
   ]
  },
  {
   "cell_type": "code",
   "execution_count": 49,
   "id": "8d62018b-653e-4e1c-ab59-6208be59d334",
   "metadata": {},
   "outputs": [],
   "source": [
    "#Logical operators"
   ]
  },
  {
   "cell_type": "code",
   "execution_count": null,
   "id": "d49174e1-507f-4c2a-b643-d7677cff000d",
   "metadata": {},
   "outputs": [],
   "source": [
    "and\n",
    "\n",
    "or\n",
    "\n",
    "not"
   ]
  },
  {
   "cell_type": "code",
   "execution_count": 57,
   "id": "ae921ff8-47b6-4a22-8faf-328a95ae9b41",
   "metadata": {},
   "outputs": [],
   "source": [
    "a=50"
   ]
  },
  {
   "cell_type": "code",
   "execution_count": 59,
   "id": "402add57-431b-4ad7-8ac9-7dc640b6daa2",
   "metadata": {},
   "outputs": [],
   "source": [
    "b=45"
   ]
  },
  {
   "cell_type": "code",
   "execution_count": 61,
   "id": "72076493-b518-400a-950a-aa6a502a43d5",
   "metadata": {},
   "outputs": [
    {
     "data": {
      "text/plain": [
       "50"
      ]
     },
     "execution_count": 61,
     "metadata": {},
     "output_type": "execute_result"
    }
   ],
   "source": [
    "a"
   ]
  },
  {
   "cell_type": "code",
   "execution_count": 63,
   "id": "7cedc5a3-a71e-48a4-a4fb-d26b1fbe14ea",
   "metadata": {},
   "outputs": [
    {
     "data": {
      "text/plain": [
       "45"
      ]
     },
     "execution_count": 63,
     "metadata": {},
     "output_type": "execute_result"
    }
   ],
   "source": [
    "b"
   ]
  },
  {
   "cell_type": "code",
   "execution_count": 81,
   "id": "6776c79c-b5b7-4495-b49e-485b9e81094b",
   "metadata": {},
   "outputs": [
    {
     "data": {
      "text/plain": [
       "True"
      ]
     },
     "execution_count": 81,
     "metadata": {},
     "output_type": "execute_result"
    }
   ],
   "source": [
    "a > b"
   ]
  },
  {
   "cell_type": "code",
   "execution_count": 67,
   "id": "91246d90-1bbc-40cb-a398-207f703383af",
   "metadata": {},
   "outputs": [
    {
     "data": {
      "text/plain": [
       "False"
      ]
     },
     "execution_count": 67,
     "metadata": {},
     "output_type": "execute_result"
    }
   ],
   "source": [
    "a < b"
   ]
  },
  {
   "cell_type": "code",
   "execution_count": 73,
   "id": "286a60fb-ace6-4a64-956b-621dc5daadbc",
   "metadata": {},
   "outputs": [
    {
     "data": {
      "text/plain": [
       "True"
      ]
     },
     "execution_count": 73,
     "metadata": {},
     "output_type": "execute_result"
    }
   ],
   "source": [
    "a > b"
   ]
  },
  {
   "cell_type": "code",
   "execution_count": 75,
   "id": "0c674482-4c06-4d1e-a99f-71df08d6acf5",
   "metadata": {},
   "outputs": [
    {
     "data": {
      "text/plain": [
       "False"
      ]
     },
     "execution_count": 75,
     "metadata": {},
     "output_type": "execute_result"
    }
   ],
   "source": [
    "a > 100"
   ]
  },
  {
   "cell_type": "code",
   "execution_count": 77,
   "id": "96406e5b-1251-4f02-b321-c9692f57fe4f",
   "metadata": {},
   "outputs": [
    {
     "data": {
      "text/plain": [
       "False"
      ]
     },
     "execution_count": 77,
     "metadata": {},
     "output_type": "execute_result"
    }
   ],
   "source": [
    "(a> b) and (a> 100)"
   ]
  },
  {
   "cell_type": "code",
   "execution_count": 79,
   "id": "038cff46-5dfa-4240-9476-43683d728eff",
   "metadata": {},
   "outputs": [
    {
     "data": {
      "text/plain": [
       "True"
      ]
     },
     "execution_count": 79,
     "metadata": {},
     "output_type": "execute_result"
    }
   ],
   "source": [
    "(a> b) or (a> 100)"
   ]
  },
  {
   "cell_type": "code",
   "execution_count": null,
   "id": "3133d01c-182a-44eb-8796-d85dd8c850c2",
   "metadata": {},
   "outputs": [],
   "source": [
    "True and True    --- True\n",
    "True and False   --- False\n",
    "False and True   --- False\n",
    "False and False  --- False"
   ]
  },
  {
   "cell_type": "code",
   "execution_count": null,
   "id": "c02e6579-c12b-4a63-b89f-ae0345c896eb",
   "metadata": {},
   "outputs": [],
   "source": [
    "True or True    --- True\n",
    "True or False   --- True\n",
    "False or True   --- True\n",
    "False or False  --- False"
   ]
  },
  {
   "cell_type": "code",
   "execution_count": null,
   "id": "4a7068ab-ac06-48a2-a84f-819095a702f0",
   "metadata": {},
   "outputs": [],
   "source": [
    "# q1\n",
    "x=34.56\n",
    "y=3.5\n",
    "\n",
    "#all arithematic operators\n",
    "#all comparison operators\n",
    "#and  or "
   ]
  }
 ],
 "metadata": {
  "kernelspec": {
   "display_name": "Python [conda env:base] *",
   "language": "python",
   "name": "conda-base-py"
  },
  "language_info": {
   "codemirror_mode": {
    "name": "ipython",
    "version": 3
   },
   "file_extension": ".py",
   "mimetype": "text/x-python",
   "name": "python",
   "nbconvert_exporter": "python",
   "pygments_lexer": "ipython3",
   "version": "3.12.7"
  }
 },
 "nbformat": 4,
 "nbformat_minor": 5
}
