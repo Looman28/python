{
 "cells": [
  {
   "cell_type": "code",
   "execution_count": 1,
   "id": "ad3cb46a-7b13-4ca7-a641-8d2f9f0f0491",
   "metadata": {},
   "outputs": [
    {
     "data": {
      "text/plain": [
       "[203, 'Hyderbad', 45, True, 'Mumbai', 78, 175, 34.9]"
      ]
     },
     "execution_count": 1,
     "metadata": {},
     "output_type": "execute_result"
    }
   ],
   "source": [
    "m=[203,'Hyderbad',45,True,'Mumbai',78,175,34.90]\n",
    "m"
   ]
  },
  {
   "cell_type": "code",
   "execution_count": 3,
   "id": "1c56d74a-5ec8-48e5-beb0-eb5f52028681",
   "metadata": {},
   "outputs": [
    {
     "data": {
      "text/plain": [
       "45"
      ]
     },
     "execution_count": 3,
     "metadata": {},
     "output_type": "execute_result"
    }
   ],
   "source": [
    "m[-6]"
   ]
  },
  {
   "cell_type": "code",
   "execution_count": 5,
   "id": "f15dd68e-b0e1-4b8a-9d02-e2b1df95b21f",
   "metadata": {},
   "outputs": [
    {
     "data": {
      "text/plain": [
       "45"
      ]
     },
     "execution_count": 5,
     "metadata": {},
     "output_type": "execute_result"
    }
   ],
   "source": [
    "m[2]"
   ]
  },
  {
   "cell_type": "code",
   "execution_count": 9,
   "id": "40dd8dda-465f-4703-bab5-515acb0f438b",
   "metadata": {},
   "outputs": [
    {
     "data": {
      "text/plain": [
       "'Mumbai'"
      ]
     },
     "execution_count": 9,
     "metadata": {},
     "output_type": "execute_result"
    }
   ],
   "source": [
    "m[4]"
   ]
  },
  {
   "cell_type": "code",
   "execution_count": 11,
   "id": "f465bdd5-d9ef-4883-9839-57b95ccd5022",
   "metadata": {},
   "outputs": [
    {
     "data": {
      "text/plain": [
       "'Mumbai'"
      ]
     },
     "execution_count": 11,
     "metadata": {},
     "output_type": "execute_result"
    }
   ],
   "source": [
    "m[-4]"
   ]
  },
  {
   "cell_type": "code",
   "execution_count": 13,
   "id": "0543f003-c3c6-4d20-9268-46723684b427",
   "metadata": {},
   "outputs": [
    {
     "data": {
      "text/plain": [
       "'Hyderbad'"
      ]
     },
     "execution_count": 13,
     "metadata": {},
     "output_type": "execute_result"
    }
   ],
   "source": [
    "m[1]"
   ]
  },
  {
   "cell_type": "code",
   "execution_count": 15,
   "id": "aa3d8633-428f-4f64-8704-0633012a9ed8",
   "metadata": {},
   "outputs": [
    {
     "data": {
      "text/plain": [
       "34.9"
      ]
     },
     "execution_count": 15,
     "metadata": {},
     "output_type": "execute_result"
    }
   ],
   "source": [
    "m[-1]"
   ]
  },
  {
   "cell_type": "code",
   "execution_count": 17,
   "id": "bcbe4800-421d-4a87-b6f0-a22f68d3562d",
   "metadata": {},
   "outputs": [
    {
     "data": {
      "text/plain": [
       "[45, True, 'Mumbai', 78, 175]"
      ]
     },
     "execution_count": 17,
     "metadata": {},
     "output_type": "execute_result"
    }
   ],
   "source": [
    "m[2:7]"
   ]
  },
  {
   "cell_type": "code",
   "execution_count": 19,
   "id": "f659206c-e7ab-4e5c-9f95-7d1af3b6e3da",
   "metadata": {},
   "outputs": [
    {
     "data": {
      "text/plain": [
       "[203, 'Hyderbad', 45, True, 'Mumbai', 78]"
      ]
     },
     "execution_count": 19,
     "metadata": {},
     "output_type": "execute_result"
    }
   ],
   "source": [
    "m[0:6]"
   ]
  },
  {
   "cell_type": "code",
   "execution_count": 21,
   "id": "e2a3c385-75d1-4ed4-a193-d25b8e7220ec",
   "metadata": {},
   "outputs": [
    {
     "data": {
      "text/plain": [
       "[45, True, 'Mumbai', 78, 175]"
      ]
     },
     "execution_count": 21,
     "metadata": {},
     "output_type": "execute_result"
    }
   ],
   "source": [
    "m[2:-1]"
   ]
  },
  {
   "cell_type": "code",
   "execution_count": 23,
   "id": "b72dff91-c129-4462-a779-233174386691",
   "metadata": {},
   "outputs": [
    {
     "data": {
      "text/plain": [
       "[45, True, 'Mumbai', 78, 175]"
      ]
     },
     "execution_count": 23,
     "metadata": {},
     "output_type": "execute_result"
    }
   ],
   "source": [
    "m[-6:7]"
   ]
  },
  {
   "cell_type": "code",
   "execution_count": 25,
   "id": "8ffe7ca3-a440-4edd-a7d8-ddfa71fc686f",
   "metadata": {},
   "outputs": [
    {
     "data": {
      "text/plain": [
       "[45, True, 'Mumbai', 78, 175]"
      ]
     },
     "execution_count": 25,
     "metadata": {},
     "output_type": "execute_result"
    }
   ],
   "source": [
    "m[-6:-1]"
   ]
  },
  {
   "cell_type": "code",
   "execution_count": 27,
   "id": "aa5d060f-f1ad-4d86-a48c-678f7291d931",
   "metadata": {},
   "outputs": [
    {
     "data": {
      "text/plain": [
       "[203, 'Hyderbad', 45, True, 'Mumbai', 78, 175, 34.9]"
      ]
     },
     "execution_count": 27,
     "metadata": {},
     "output_type": "execute_result"
    }
   ],
   "source": [
    "m"
   ]
  },
  {
   "cell_type": "code",
   "execution_count": 31,
   "id": "7841f65f-ad74-4561-b7df-3e65b1447d3c",
   "metadata": {},
   "outputs": [
    {
     "data": {
      "text/plain": [
       "[203, 'Hyderbad', 45, True, 'Mumbai', 78]"
      ]
     },
     "execution_count": 31,
     "metadata": {},
     "output_type": "execute_result"
    }
   ],
   "source": [
    "m[ 0:6:1]"
   ]
  },
  {
   "cell_type": "code",
   "execution_count": 37,
   "id": "70fe6438-3286-4b65-99aa-884e6e8c7a71",
   "metadata": {},
   "outputs": [
    {
     "data": {
      "text/plain": [
       "[203, 45, 'Mumbai']"
      ]
     },
     "execution_count": 37,
     "metadata": {},
     "output_type": "execute_result"
    }
   ],
   "source": [
    "m[0:6:2]"
   ]
  },
  {
   "cell_type": "code",
   "execution_count": 33,
   "id": "6bfa66e4-c224-4a16-b424-8af8f16695a8",
   "metadata": {},
   "outputs": [
    {
     "data": {
      "text/plain": [
       "[203, 'Hyderbad', 45, True, 'Mumbai', 78]"
      ]
     },
     "execution_count": 33,
     "metadata": {},
     "output_type": "execute_result"
    }
   ],
   "source": [
    "m[0:6]"
   ]
  },
  {
   "cell_type": "code",
   "execution_count": 39,
   "id": "604cfbea-3924-4263-8080-e7e324141d61",
   "metadata": {},
   "outputs": [
    {
     "data": {
      "text/plain": [
       "[True, 'Mumbai', 78, 175, 34.9]"
      ]
     },
     "execution_count": 39,
     "metadata": {},
     "output_type": "execute_result"
    }
   ],
   "source": [
    "m[3:8:1]"
   ]
  },
  {
   "cell_type": "code",
   "execution_count": 41,
   "id": "9aad85c1-11f0-48c1-b74a-2eb4f53b1bb2",
   "metadata": {},
   "outputs": [
    {
     "data": {
      "text/plain": [
       "[True, 78, 34.9]"
      ]
     },
     "execution_count": 41,
     "metadata": {},
     "output_type": "execute_result"
    }
   ],
   "source": [
    "m[3:8:2]"
   ]
  },
  {
   "cell_type": "code",
   "execution_count": 43,
   "id": "c436a008-6f7b-45d8-8d1a-705b2c1cadcb",
   "metadata": {},
   "outputs": [
    {
     "data": {
      "text/plain": [
       "[203, 'Hyderbad', 45, True, 'Mumbai', 78, 175, 34.9]"
      ]
     },
     "execution_count": 43,
     "metadata": {},
     "output_type": "execute_result"
    }
   ],
   "source": [
    "m"
   ]
  },
  {
   "cell_type": "code",
   "execution_count": 63,
   "id": "555a3909-029d-4b49-9f1e-36bf5bb75f47",
   "metadata": {},
   "outputs": [],
   "source": [
    "m.append(72)"
   ]
  },
  {
   "cell_type": "code",
   "execution_count": 66,
   "id": "793393bc-3635-462e-871c-6a6320cb5e34",
   "metadata": {},
   "outputs": [
    {
     "data": {
      "text/plain": [
       "[203,\n",
       " 'Hyderbad',\n",
       " 45,\n",
       " True,\n",
       " 'Mumbai',\n",
       " 78,\n",
       " 175,\n",
       " 34.9,\n",
       " 72,\n",
       " 72,\n",
       " 72,\n",
       " 72,\n",
       " 72,\n",
       " 72,\n",
       " 72,\n",
       " 72,\n",
       " 72,\n",
       " 72]"
      ]
     },
     "execution_count": 66,
     "metadata": {},
     "output_type": "execute_result"
    }
   ],
   "source": [
    "m"
   ]
  },
  {
   "cell_type": "code",
   "execution_count": 68,
   "id": "c70ffcdd-732c-43ab-9b14-19d7240811b7",
   "metadata": {},
   "outputs": [],
   "source": [
    "m.append('India')"
   ]
  },
  {
   "cell_type": "code",
   "execution_count": 74,
   "id": "0ae9be96-279d-40a8-9bd0-53ef982f95c3",
   "metadata": {},
   "outputs": [
    {
     "data": {
      "text/plain": [
       "[203,\n",
       " 'Hyderbad',\n",
       " 45,\n",
       " True,\n",
       " 'Mumbai',\n",
       " 78,\n",
       " 175,\n",
       " 34.9,\n",
       " 72,\n",
       " 72,\n",
       " 72,\n",
       " 72,\n",
       " 72,\n",
       " 72,\n",
       " 72,\n",
       " 72,\n",
       " 72,\n",
       " 72,\n",
       " 'India',\n",
       " 45]"
      ]
     },
     "execution_count": 74,
     "metadata": {},
     "output_type": "execute_result"
    }
   ],
   "source": [
    "m"
   ]
  },
  {
   "cell_type": "code",
   "execution_count": 72,
   "id": "76b52c25-81cd-4a4e-89ed-2c083d7045df",
   "metadata": {},
   "outputs": [],
   "source": [
    "m.append(45)"
   ]
  },
  {
   "cell_type": "code",
   "execution_count": 76,
   "id": "dfd58a58-7cc7-4c4d-bd04-e6ff7a069d88",
   "metadata": {},
   "outputs": [
    {
     "data": {
      "text/plain": [
       "[203,\n",
       " 'Hyderbad',\n",
       " 45,\n",
       " True,\n",
       " 'Mumbai',\n",
       " 78,\n",
       " 175,\n",
       " 34.9,\n",
       " 72,\n",
       " 72,\n",
       " 72,\n",
       " 72,\n",
       " 72,\n",
       " 72,\n",
       " 72,\n",
       " 72,\n",
       " 72,\n",
       " 72,\n",
       " 'India',\n",
       " 45]"
      ]
     },
     "execution_count": 76,
     "metadata": {},
     "output_type": "execute_result"
    }
   ],
   "source": [
    "m"
   ]
  },
  {
   "cell_type": "code",
   "execution_count": 78,
   "id": "e4f426d3-7e7d-4cab-8710-a22c0ed2a35a",
   "metadata": {},
   "outputs": [],
   "source": [
    "m.insert(2,70)"
   ]
  },
  {
   "cell_type": "code",
   "execution_count": 80,
   "id": "0e7e1bd0-cd4b-4992-af12-9c955f907116",
   "metadata": {},
   "outputs": [
    {
     "data": {
      "text/plain": [
       "[203,\n",
       " 'Hyderbad',\n",
       " 70,\n",
       " 45,\n",
       " True,\n",
       " 'Mumbai',\n",
       " 78,\n",
       " 175,\n",
       " 34.9,\n",
       " 72,\n",
       " 72,\n",
       " 72,\n",
       " 72,\n",
       " 72,\n",
       " 72,\n",
       " 72,\n",
       " 72,\n",
       " 72,\n",
       " 72,\n",
       " 'India',\n",
       " 45]"
      ]
     },
     "execution_count": 80,
     "metadata": {},
     "output_type": "execute_result"
    }
   ],
   "source": [
    "m"
   ]
  },
  {
   "cell_type": "code",
   "execution_count": 88,
   "id": "e8b0be69-5887-4d6a-afde-0bebc90579ba",
   "metadata": {},
   "outputs": [],
   "source": [
    "m.insert(8,'Delhi')"
   ]
  },
  {
   "cell_type": "code",
   "execution_count": 90,
   "id": "2cab3618-d6e3-4abb-b16a-b7f8e6f85528",
   "metadata": {},
   "outputs": [
    {
     "name": "stdout",
     "output_type": "stream",
     "text": [
      "['Delhi', 203, 'Hyderbad', 70, 45, True, 'Mumbai', 78, 'Delhi', 'Delhi', 175, 34.9, 72, 72, 72, 72, 72, 72, 72, 72, 72, 72, 'India', 45]\n"
     ]
    }
   ],
   "source": [
    "print(m)"
   ]
  },
  {
   "cell_type": "code",
   "execution_count": 92,
   "id": "8c26f220-e5cb-405d-a61c-c25da6cb0fed",
   "metadata": {},
   "outputs": [
    {
     "data": {
      "text/plain": [
       "78"
      ]
     },
     "execution_count": 92,
     "metadata": {},
     "output_type": "execute_result"
    }
   ],
   "source": [
    "m.pop(7)"
   ]
  },
  {
   "cell_type": "code",
   "execution_count": 95,
   "id": "67709fd7-a62b-4bec-b654-8a7741bcf4dc",
   "metadata": {},
   "outputs": [
    {
     "data": {
      "text/plain": [
       "['Delhi',\n",
       " 203,\n",
       " 'Hyderbad',\n",
       " 70,\n",
       " 45,\n",
       " True,\n",
       " 'Mumbai',\n",
       " 'Delhi',\n",
       " 'Delhi',\n",
       " 175,\n",
       " 34.9,\n",
       " 72,\n",
       " 72,\n",
       " 72,\n",
       " 72,\n",
       " 72,\n",
       " 72,\n",
       " 72,\n",
       " 72,\n",
       " 72,\n",
       " 72,\n",
       " 'India',\n",
       " 45]"
      ]
     },
     "execution_count": 95,
     "metadata": {},
     "output_type": "execute_result"
    }
   ],
   "source": [
    "m"
   ]
  },
  {
   "cell_type": "code",
   "execution_count": 101,
   "id": "676498d4-eff5-43a3-848a-c981f8b1c3db",
   "metadata": {},
   "outputs": [
    {
     "data": {
      "text/plain": [
       "70"
      ]
     },
     "execution_count": 101,
     "metadata": {},
     "output_type": "execute_result"
    }
   ],
   "source": [
    "m.pop(3)"
   ]
  },
  {
   "cell_type": "code",
   "execution_count": 103,
   "id": "e7e358fd-03bc-494f-a347-74e39d39914c",
   "metadata": {},
   "outputs": [
    {
     "data": {
      "text/plain": [
       "['Delhi',\n",
       " 203,\n",
       " 'Hyderbad',\n",
       " 45,\n",
       " True,\n",
       " 'Mumbai',\n",
       " 'Delhi',\n",
       " 'Delhi',\n",
       " 175,\n",
       " 34.9,\n",
       " 72,\n",
       " 72,\n",
       " 72,\n",
       " 72,\n",
       " 72,\n",
       " 72,\n",
       " 72,\n",
       " 72,\n",
       " 72,\n",
       " 72,\n",
       " 'India',\n",
       " 45]"
      ]
     },
     "execution_count": 103,
     "metadata": {},
     "output_type": "execute_result"
    }
   ],
   "source": [
    "m"
   ]
  },
  {
   "cell_type": "code",
   "execution_count": 107,
   "id": "34341a85-b2dc-474f-a4fa-e7855c541acc",
   "metadata": {},
   "outputs": [],
   "source": [
    "m.remove('Delhi')"
   ]
  },
  {
   "cell_type": "code",
   "execution_count": 109,
   "id": "4f08c8bf-dc35-4df0-857a-e206a0230b34",
   "metadata": {},
   "outputs": [
    {
     "data": {
      "text/plain": [
       "[203,\n",
       " 'Hyderbad',\n",
       " 45,\n",
       " True,\n",
       " 'Mumbai',\n",
       " 'Delhi',\n",
       " 175,\n",
       " 34.9,\n",
       " 72,\n",
       " 72,\n",
       " 72,\n",
       " 72,\n",
       " 72,\n",
       " 72,\n",
       " 72,\n",
       " 72,\n",
       " 72,\n",
       " 72,\n",
       " 'India',\n",
       " 45]"
      ]
     },
     "execution_count": 109,
     "metadata": {},
     "output_type": "execute_result"
    }
   ],
   "source": [
    "m"
   ]
  },
  {
   "cell_type": "code",
   "execution_count": 111,
   "id": "b1ff572e-92c4-46c3-98bb-ef40a67eea90",
   "metadata": {},
   "outputs": [
    {
     "data": {
      "text/plain": [
       "10"
      ]
     },
     "execution_count": 111,
     "metadata": {},
     "output_type": "execute_result"
    }
   ],
   "source": [
    "m.count(72)"
   ]
  },
  {
   "cell_type": "code",
   "execution_count": 113,
   "id": "9b90ee8b-e816-403d-9740-f8d6ec75789e",
   "metadata": {},
   "outputs": [
    {
     "data": {
      "text/plain": [
       "[6, 3, 8, 9, 4]"
      ]
     },
     "execution_count": 113,
     "metadata": {},
     "output_type": "execute_result"
    }
   ],
   "source": [
    "d=[6,3,8,9,4]\n",
    "d"
   ]
  },
  {
   "cell_type": "code",
   "execution_count": 115,
   "id": "6d19117d-13f1-43ff-b042-692b44bb266a",
   "metadata": {},
   "outputs": [],
   "source": [
    "m.extend(d)"
   ]
  },
  {
   "cell_type": "code",
   "execution_count": 117,
   "id": "7ffd7954-1829-4eef-9fd9-93b9694b475e",
   "metadata": {},
   "outputs": [
    {
     "name": "stdout",
     "output_type": "stream",
     "text": [
      "[203, 'Hyderbad', 45, True, 'Mumbai', 'Delhi', 175, 34.9, 72, 72, 72, 72, 72, 72, 72, 72, 72, 72, 'India', 45, 6, 3, 8, 9, 4]\n"
     ]
    }
   ],
   "source": [
    "print(m)"
   ]
  },
  {
   "cell_type": "code",
   "execution_count": null,
   "id": "279f6255-21fc-4f6a-abb0-a0c92739dcd1",
   "metadata": {},
   "outputs": [],
   "source": []
  }
 ],
 "metadata": {
  "kernelspec": {
   "display_name": "Python [conda env:base] *",
   "language": "python",
   "name": "conda-base-py"
  },
  "language_info": {
   "codemirror_mode": {
    "name": "ipython",
    "version": 3
   },
   "file_extension": ".py",
   "mimetype": "text/x-python",
   "name": "python",
   "nbconvert_exporter": "python",
   "pygments_lexer": "ipython3",
   "version": "3.12.7"
  }
 },
 "nbformat": 4,
 "nbformat_minor": 5
}
