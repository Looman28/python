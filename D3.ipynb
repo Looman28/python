{
 "cells": [
  {
   "cell_type": "code",
   "execution_count": 1,
   "id": "ad7a4671-404a-48ed-b99d-8625d52da716",
   "metadata": {},
   "outputs": [
    {
     "data": {
      "text/plain": [
       "{10, 20, 30, 60, 70, 80}"
      ]
     },
     "execution_count": 1,
     "metadata": {},
     "output_type": "execute_result"
    }
   ],
   "source": [
    "s={ 80,70,30,80,60,30,10,20}\n",
    "s"
   ]
  },
  {
   "cell_type": "code",
   "execution_count": 3,
   "id": "7306cbff-b6e5-42c9-94a0-53f8587f76a3",
   "metadata": {},
   "outputs": [
    {
     "data": {
      "text/plain": [
       "set"
      ]
     },
     "execution_count": 3,
     "metadata": {},
     "output_type": "execute_result"
    }
   ],
   "source": [
    "type(s)"
   ]
  },
  {
   "cell_type": "code",
   "execution_count": 5,
   "id": "7c3c46fc-55a0-4a7c-b991-bafb70143827",
   "metadata": {},
   "outputs": [
    {
     "data": {
      "text/plain": [
       "{10, 20, 30, 60, 70, 80}"
      ]
     },
     "execution_count": 5,
     "metadata": {},
     "output_type": "execute_result"
    }
   ],
   "source": [
    " s"
   ]
  },
  {
   "cell_type": "code",
   "execution_count": 7,
   "id": "d6aadf35-d43c-44c6-83b1-75df48583d43",
   "metadata": {},
   "outputs": [],
   "source": [
    "s.add(77)"
   ]
  },
  {
   "cell_type": "code",
   "execution_count": 9,
   "id": "5acb2a43-79ed-4cec-bc0e-d99f20fee1ef",
   "metadata": {},
   "outputs": [
    {
     "data": {
      "text/plain": [
       "{10, 20, 30, 60, 70, 77, 80}"
      ]
     },
     "execution_count": 9,
     "metadata": {},
     "output_type": "execute_result"
    }
   ],
   "source": [
    "s"
   ]
  },
  {
   "cell_type": "code",
   "execution_count": 11,
   "id": "f993ba70-4d06-4e3b-a912-f45c8586e245",
   "metadata": {},
   "outputs": [],
   "source": [
    "s.remove(20)"
   ]
  },
  {
   "cell_type": "code",
   "execution_count": 13,
   "id": "f08b3068-c0d2-4cc9-bcbc-1afa120e6254",
   "metadata": {},
   "outputs": [
    {
     "data": {
      "text/plain": [
       "{10, 30, 60, 70, 77, 80}"
      ]
     },
     "execution_count": 13,
     "metadata": {},
     "output_type": "execute_result"
    }
   ],
   "source": [
    "s"
   ]
  },
  {
   "cell_type": "code",
   "execution_count": null,
   "id": "dfcdfc73-d75f-4d88-a27d-06d0a7eddfbd",
   "metadata": {},
   "outputs": [],
   "source": []
  }
 ],
 "metadata": {
  "kernelspec": {
   "display_name": "Python [conda env:base] *",
   "language": "python",
   "name": "conda-base-py"
  },
  "language_info": {
   "codemirror_mode": {
    "name": "ipython",
    "version": 3
   },
   "file_extension": ".py",
   "mimetype": "text/x-python",
   "name": "python",
   "nbconvert_exporter": "python",
   "pygments_lexer": "ipython3",
   "version": "3.12.7"
  }
 },
 "nbformat": 4,
 "nbformat_minor": 5
}
